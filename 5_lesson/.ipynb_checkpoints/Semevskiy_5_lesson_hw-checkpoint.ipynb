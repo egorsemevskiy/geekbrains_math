{
 "cells": [
  {
   "cell_type": "code",
   "execution_count": 5,
   "metadata": {},
   "outputs": [],
   "source": [
    "import numpy as np\n",
    "import matplotlib.pyplot as plt\n",
    "import matplotlib.mlab as mlab\n",
    "from random import randint"
   ]
  },
  {
   "cell_type": "code",
   "execution_count": null,
   "metadata": {},
   "outputs": [],
   "source": [
    "# Напишите код, моделирующий выпадение поля в рулетке (с учетом поля ZERO)"
   ]
  },
  {
   "cell_type": "code",
   "execution_count": 2,
   "metadata": {},
   "outputs": [
    {
     "name": "stdout",
     "output_type": "stream",
     "text": [
      "\n",
      "19\n",
      "\n",
      "9\n",
      "\n",
      "17\n"
     ]
    }
   ],
   "source": [
    "for i in range (0,3):\n",
    "    a = input()\n",
    "    x = int(np.random.uniform(0,37))\n",
    "    print (x)"
   ]
  },
  {
   "cell_type": "markdown",
   "metadata": {},
   "source": [
    "Напишите код, проверяющий любую из теорем сложения или умножения вероятности на примере рулетки или подбрасывания монетки."
   ]
  },
  {
   "cell_type": "markdown",
   "metadata": {},
   "source": [
    "Вероятность того, что при 1000-кратном запуске рулетки выпадет 486 четных"
   ]
  },
  {
   "cell_type": "code",
   "execution_count": 6,
   "metadata": {},
   "outputs": [
    {
     "name": "stdout",
     "output_type": "stream",
     "text": [
      "Выпало 497 четных\n"
     ]
    }
   ],
   "source": [
    "s = 0\n",
    "for _ in range(1000):\n",
    "    x = randint(0, 36)\n",
    "    if x > 0 and x % 2 == 0:\n",
    "        s += 1\n",
    "print(f'Выпало {s} четных')"
   ]
  },
  {
   "cell_type": "markdown",
   "metadata": {},
   "source": [
    "Сгенерируйте десять выборок случайных чисел х0, …, х9. и постройте гистограмму распределения случайной суммы х0+х1+ …+ х9."
   ]
  },
  {
   "cell_type": "code",
   "execution_count": 7,
   "metadata": {},
   "outputs": [],
   "source": [
    "res = []\n",
    "for _ in range(1000):\n",
    "    s = 0\n",
    "    for _ in range(10):\n",
    "        x = randint(0, 37)\n",
    "        s += x\n",
    "    res.append(s)"
   ]
  },
  {
   "cell_type": "code",
   "execution_count": 8,
   "metadata": {},
   "outputs": [
    {
     "data": {
      "image/png": "[encoded data removed]",
      "text/plain": [
       "<Figure size 432x288 with 1 Axes>"
      ]
     },
     "metadata": {
      "needs_background": "light"
     },
     "output_type": "display_data"
    }
   ],
   "source": [
    "plt.hist(res, bins=20, edgecolor='black')\n",
    "plt.show()"
   ]
  },
  {
   "cell_type": "markdown",
   "metadata": {},
   "source": [
    "Дополните код Монте-Карло последовательности независимых испытаний расчетом соответствующих вероятностей (через биномиальное распределение) и сравните результаты."
   ]
  },
  {
   "cell_type": "code",
   "execution_count": 9,
   "metadata": {},
   "outputs": [],
   "source": [
    "from scipy.special import binom"
   ]
  },
  {
   "cell_type": "code",
   "execution_count": 29,
   "metadata": {},
   "outputs": [],
   "source": [
    "def compare(n, k):\n",
    "    p = pow(2, -n) \n",
    "    \n",
    "\n",
    "    binoms = []\n",
    "    for i in range(n + 1):\n",
    "         binoms.append(binom(n, i) * p * k)\n",
    "        \n",
    "    res = []\n",
    "    for _ in range(k):\n",
    "        s = 0\n",
    "        for _ in range(n):\n",
    "            x = randint(0, 1)\n",
    "            s += x\n",
    "        res.append(s)\n",
    "        \n",
    "    \n",
    "\n",
    "    return res,n , binoms\n"
   ]
  },
  {
   "cell_type": "code",
   "execution_count": null,
   "metadata": {},
   "outputs": [],
   "source": []
  },
  {
   "cell_type": "code",
   "execution_count": 30,
   "metadata": {},
   "outputs": [],
   "source": [
    "h, n,binoms= compare(10, 1000) "
   ]
  },
  {
   "cell_type": "code",
   "execution_count": 33,
   "metadata": {},
   "outputs": [],
   "source": [
    "def bernulli(n,k):\n",
    "    c = math.factorial(n)/(math.factorial(k)*math.factorial(n-k))\n",
    "    p = C * 1/2**n\n",
    "    print(\"Вероятность по Бернулли:\", P_n_k)\n",
    "    return p"
   ]
  },
  {
   "cell_type": "markdown",
   "metadata": {},
   "source": [
    "### Из урока по комбинаторике повторите расчеты, сгенерировав возможные варианты\n",
    " перестановок для других значений n и k"
   ]
  },
  {
   "cell_type": "code",
   "execution_count": 34,
   "metadata": {},
   "outputs": [
    {
     "name": "stdout",
     "output_type": "stream",
     "text": [
      "0000\n",
      "0001\n",
      "0002\n",
      "0003\n",
      "0010\n",
      "0011\n",
      "0012\n",
      "0013\n",
      "0020\n",
      "0021\n",
      "0022\n",
      "0023\n",
      "0030\n",
      "0031\n",
      "0032\n",
      "0033\n",
      "0100\n",
      "0101\n",
      "0102\n",
      "0103\n",
      "0110\n",
      "0111\n",
      "0112\n",
      "0113\n",
      "0120\n",
      "0121\n",
      "0122\n",
      "0123\n",
      "0130\n",
      "0131\n",
      "0132\n",
      "0133\n",
      "0200\n",
      "0201\n",
      "0202\n",
      "0203\n",
      "0210\n",
      "0211\n",
      "0212\n",
      "0213\n",
      "0220\n",
      "0221\n",
      "0222\n",
      "0223\n",
      "0230\n",
      "0231\n",
      "0232\n",
      "0233\n",
      "0300\n",
      "0301\n",
      "0302\n",
      "0303\n",
      "0310\n",
      "0311\n",
      "0312\n",
      "0313\n",
      "0320\n",
      "0321\n",
      "0322\n",
      "0323\n",
      "0330\n",
      "0331\n",
      "0332\n",
      "0333\n",
      "1000\n",
      "1001\n",
      "1002\n",
      "1003\n",
      "1010\n",
      "1011\n",
      "1012\n",
      "1013\n",
      "1020\n",
      "1021\n",
      "1022\n",
      "1023\n",
      "1030\n",
      "1031\n",
      "1032\n",
      "1033\n",
      "1100\n",
      "1101\n",
      "1102\n",
      "1103\n",
      "1110\n",
      "1111\n",
      "1112\n",
      "1113\n",
      "1120\n",
      "1121\n",
      "1122\n",
      "1123\n",
      "1130\n",
      "1131\n",
      "1132\n",
      "1133\n",
      "1200\n",
      "1201\n",
      "1202\n",
      "1203\n",
      "1210\n",
      "1211\n",
      "1212\n",
      "1213\n",
      "1220\n",
      "1221\n",
      "1222\n",
      "1223\n",
      "1230\n",
      "1231\n",
      "1232\n",
      "1233\n",
      "1300\n",
      "1301\n",
      "1302\n",
      "1303\n",
      "1310\n",
      "1311\n",
      "1312\n",
      "1313\n",
      "1320\n",
      "1321\n",
      "1322\n",
      "1323\n",
      "1330\n",
      "1331\n",
      "1332\n",
      "1333\n",
      "2000\n",
      "2001\n",
      "2002\n",
      "2003\n",
      "2010\n",
      "2011\n",
      "2012\n",
      "2013\n",
      "2020\n",
      "2021\n",
      "2022\n",
      "2023\n",
      "2030\n",
      "2031\n",
      "2032\n",
      "2033\n",
      "2100\n",
      "2101\n",
      "2102\n",
      "2103\n",
      "2110\n",
      "2111\n",
      "2112\n",
      "2113\n",
      "2120\n",
      "2121\n",
      "2122\n",
      "2123\n",
      "2130\n",
      "2131\n",
      "2132\n",
      "2133\n",
      "2200\n",
      "2201\n",
      "2202\n",
      "2203\n",
      "2210\n",
      "2211\n",
      "2212\n",
      "2213\n",
      "2220\n",
      "2221\n",
      "2222\n",
      "2223\n",
      "2230\n",
      "2231\n",
      "2232\n",
      "2233\n",
      "2300\n",
      "2301\n",
      "2302\n",
      "2303\n",
      "2310\n",
      "2311\n",
      "2312\n",
      "2313\n",
      "2320\n",
      "2321\n",
      "2322\n",
      "2323\n",
      "2330\n",
      "2331\n",
      "2332\n",
      "2333\n",
      "3000\n",
      "3001\n",
      "3002\n",
      "3003\n",
      "3010\n",
      "3011\n",
      "3012\n",
      "3013\n",
      "3020\n",
      "3021\n",
      "3022\n",
      "3023\n",
      "3030\n",
      "3031\n",
      "3032\n",
      "3033\n",
      "3100\n",
      "3101\n",
      "3102\n",
      "3103\n",
      "3110\n",
      "3111\n",
      "3112\n",
      "3113\n",
      "3120\n",
      "3121\n",
      "3122\n",
      "3123\n",
      "3130\n",
      "3131\n",
      "3132\n",
      "3133\n",
      "3200\n",
      "3201\n",
      "3202\n",
      "3203\n",
      "3210\n",
      "3211\n",
      "3212\n",
      "3213\n",
      "3220\n",
      "3221\n",
      "3222\n",
      "3223\n",
      "3230\n",
      "3231\n",
      "3232\n",
      "3233\n",
      "3300\n",
      "3301\n",
      "3302\n",
      "3303\n",
      "3310\n",
      "3311\n",
      "3312\n",
      "3313\n",
      "3320\n",
      "3321\n",
      "3322\n",
      "3323\n",
      "3330\n",
      "3331\n",
      "3332\n",
      "3333\n",
      "total 256\n",
      "\n",
      "0123\n",
      "0132\n",
      "0213\n",
      "0231\n",
      "0312\n",
      "0321\n",
      "1023\n",
      "1032\n",
      "1203\n",
      "1230\n",
      "1302\n",
      "1320\n",
      "2013\n",
      "2031\n",
      "2103\n",
      "2130\n",
      "2301\n",
      "2310\n",
      "3012\n",
      "3021\n",
      "3102\n",
      "3120\n",
      "3201\n",
      "3210\n",
      "total permutations: 24\n",
      "\n",
      "012\n",
      "013\n",
      "023\n",
      "123\n",
      "total combinations: 4\n"
     ]
    }
   ],
   "source": [
    "\n",
    "import itertools\n",
    "#1\n",
    "count = 0\n",
    "for p in itertools.product(\"0123\",repeat=4):\n",
    "    print(''.join(p))\n",
    "    count = count + 1\n",
    "print(\"total\", count)\n",
    "print()\n",
    "\n",
    "#2 Перестановки\n",
    "count = 0\n",
    "for p in itertools.permutations(\"0123\",4):\n",
    "    print(''.join(str(x) for x in p))\n",
    "    count = count + 1\n",
    "print(\"total permutations:\", count)\n",
    "print()\n",
    "\n",
    "#3 Комбинации\n",
    "count = 0\n",
    "for p in itertools.combinations(\"0123\",3):\n",
    "    print(''.join(str(x) for x in p))\n",
    "    count = count + 1\n",
    "print(\"total combinations:\", count)"
   ]
  },
  {
   "cell_type": "markdown",
   "metadata": {},
   "source": [
    "### Дополните код расчетом коэффициента корреляции x и y по формуле"
   ]
  },
  {
   "cell_type": "code",
   "execution_count": null,
   "metadata": {},
   "outputs": [],
   "source": [
    "n = 100\n",
    "r = 0.77\n",
    "x = np.random.rand(n)\n",
    "y = r*x + (1 - r)*np.random.rand(n)\n",
    "plt.plot(x,y,'o')\n",
    "plt.xlabel('x')\n",
    "plt.ylabel('y')\n",
    "plt.grid(True)\n",
    "\n",
    "a = (np.sum(x)*np.sum(y) - n*np.sum(x*y))/(np.sum(x)*np.sum(x) - n*np.sum(x*x))\n",
    "b = (np.sum(y) - a*np.sum(x))/n\n",
    "\n",
    "A = np.vstack([x, np.ones(len(x))]).T\n",
    "a1, b1 = np.linalg.lstsq(A, y)[0]\n",
    "print(\"a, b через МНК для линейной регрессии:\",a,b)\n",
    "print(\"a, b через встроенную библиотеку:\",a1, b1)\n",
    "c = np.corrcoef(x, y)\n",
    "print(\"Коэф корреляции через встроенную библиотеку:\", c)\n",
    "\n",
    "\n"
   ]
  },
  {
   "cell_type": "markdown",
   "metadata": {},
   "source": [
    "# ​ Дополните код расчетом коэффициента корреляции ​ x ​ и ​ y ​ по формуле\n",
    "# найдем средние значения"
   ]
  },
  {
   "cell_type": "code",
   "execution_count": 36,
   "metadata": {},
   "outputs": [
    {
     "name": "stdout",
     "output_type": "stream",
     "text": [
      "x, y средние: 0.48508578888257825 0.4930928180126664\n",
      "Коэф корреляции по формуле: 0.9623346053134721\n"
     ]
    },
    {
     "data": {
      "image/png": "[encoded data removed]",
      "text/plain": [
       "<Figure size 432x288 with 1 Axes>"
      ]
     },
     "metadata": {
      "needs_background": "light"
     },
     "output_type": "display_data"
    }
   ],
   "source": [
    "x_avg = np.average(x)\n",
    "y_avg = np.average(y)\n",
    "print(\"x, y средние:\",x_avg, y_avg)\n",
    "R = np.sum((x - x_avg)*(y - y_avg)) / (np.sum((x-x_avg)**2)*(np.sum((y-y_avg)**2)))**0.5\n",
    "print(\"Коэф корреляции по формуле:\", R)\n",
    "plt.plot([0, 1], [b, a + b])\n",
    "plt.show()"
   ]
  },
  {
   "cell_type": "code",
   "execution_count": null,
   "metadata": {},
   "outputs": [],
   "source": []
  }
 ],
 "metadata": {
  "kernelspec": {
   "display_name": "Python 3",
   "language": "python",
   "name": "python3"
  },
  "language_info": {
   "codemirror_mode": {
    "name": "ipython",
    "version": 3
   },
   "file_extension": ".py",
   "mimetype": "text/x-python",
   "name": "python",
   "nbconvert_exporter": "python",
   "pygments_lexer": "ipython3",
   "version": "3.7.4"
  }
 },
 "nbformat": 4,
 "nbformat_minor": 2
}
